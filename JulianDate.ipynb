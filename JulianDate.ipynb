{
  "nbformat": 4,
  "nbformat_minor": 0,
  "metadata": {
    "colab": {
      "provenance": [],
      "authorship_tag": "ABX9TyOfHN/7HsVU7ZYZwQVMhRXq",
      "include_colab_link": true
    },
    "kernelspec": {
      "name": "python3",
      "display_name": "Python 3"
    },
    "language_info": {
      "name": "python"
    }
  },
  "cells": [
    {
      "cell_type": "markdown",
      "metadata": {
        "id": "view-in-github",
        "colab_type": "text"
      },
      "source": [
        "<a href=\"https://colab.research.google.com/github/fernandogomesfg/julian-date-with-python/blob/main/JulianDate.ipynb\" target=\"_parent\"><img src=\"https://colab.research.google.com/assets/colab-badge.svg\" alt=\"Open In Colab\"/></a>"
      ]
    },
    {
      "cell_type": "code",
      "execution_count": 28,
      "metadata": {
        "colab": {
          "base_uri": "https://localhost:8080/"
        },
        "id": "HtgRAmYww_Eo",
        "outputId": "055cbb07-982a-45f7-ab7b-fa78f3a3a488"
      },
      "outputs": [
        {
          "output_type": "stream",
          "name": "stdout",
          "text": [
            "Algoritmo 1:  2450449.5\n",
            "Algoritmo 2:  2450464.5\n",
            "Algoritmo 3:  2450449.5\n"
          ]
        }
      ],
      "source": [
        "D = 1\n",
        "M = 1\n",
        "A = 1997\n",
        "UT = 0\n",
        "\n",
        "y = 0\n",
        "m = 0\n",
        "\n",
        "if M <= 2:\n",
        "  y = A -1\n",
        "  m = M + 12\n",
        "else:\n",
        "  y = A\n",
        "  m = M\n",
        "\n",
        "JD_1 = 367 * A - int(7 * int(A + int((M + 9)/12))/4) + int(275 * M / 9) + D + UT/24 + 1721014 - 0.5\n",
        "JD_2 = 367 * A - int(7 * int(A + int((M + 9)/12))/4) - int(3 * ((4 + int((M - 9)/7))/100 + 1)/4) + int(275 * M/9) + D + UT/24 + 1721029 - 0.5\n",
        "JD_3 = int(365.25 * y) + int(30.6001 * (m + 1)) + D + UT/24 + 1720981.5\n",
        "print(\"Algoritmo 1: \" ,JD_1)\n",
        "print(\"Algoritmo 2: \" ,JD_2)\n",
        "# print(y)\n",
        "# print(m)\n",
        "print(\"Algoritmo 3: \" ,JD_3)"
      ]
    }
  ]
}